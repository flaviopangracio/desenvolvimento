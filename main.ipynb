{
 "cells": [
  {
   "cell_type": "code",
   "execution_count": 2,
   "metadata": {
    "vscode": {
     "languageId": "python"
    }
   },
   "outputs": [],
   "source": [
    "import spreg\n",
    "import libpysal\n",
    "import geopandas as gpd\n",
    "import matplotlib.pyplot as plt\n",
    "import numpy as np\n",
    "from pyarrow import parquet"
   ]
  },
  {
   "cell_type": "code",
   "execution_count": 3,
   "metadata": {
    "vscode": {
     "languageId": "python"
    }
   },
   "outputs": [],
   "source": [
    "import pandas as pd\n"
   ]
  },
  {
   "cell_type": "code",
   "execution_count": 4,
   "metadata": {
    "vscode": {
     "languageId": "python"
    }
   },
   "outputs": [],
   "source": [
    "shape = gpd.read_parquet(\"shape_final.parquet\")"
   ]
  },
  {
   "cell_type": "code",
   "execution_count": 5,
   "metadata": {
    "vscode": {
     "languageId": "python"
    }
   },
   "outputs": [],
   "source": [
    "shape['log_populacao'] = np.log(shape['populacao'])"
   ]
  },
  {
   "cell_type": "code",
   "execution_count": 60,
   "metadata": {
    "vscode": {
     "languageId": "python"
    }
   },
   "outputs": [],
   "source": [
    "# OLS\n",
    "\n",
    "y = 'ice'\n",
    "x = [\n",
    "    'PLP',\n",
    "    'PLB',\n",
    "    'diversidade_credito',\n",
    "    'diversidade_bancaria',\n",
    "    'log_populacao',\n",
    "    'op_cred'\n",
    "]"
   ]
  },
  {
   "cell_type": "code",
   "execution_count": 61,
   "metadata": {
    "vscode": {
     "languageId": "python"
    }
   },
   "outputs": [],
   "source": [
    "shape = shape.dropna()"
   ]
  },
  {
   "cell_type": "code",
   "execution_count": 62,
   "metadata": {
    "vscode": {
     "languageId": "python"
    }
   },
   "outputs": [],
   "source": [
    "Y = shape[y]\n",
    "X = shape[x]"
   ]
  },
  {
   "cell_type": "code",
   "execution_count": 63,
   "metadata": {
    "vscode": {
     "languageId": "python"
    }
   },
   "outputs": [
    {
     "name": "stderr",
     "output_type": "stream",
     "text": [
      "<positron-console-cell-63>:1: UserWarning: Geometry is in a geographic CRS. Results from 'centroid' are likely incorrect. Use 'GeoSeries.to_crs()' to re-project geometries to a projected CRS before this operation.\n",
      "\n"
     ]
    }
   ],
   "source": [
    "shape[\"centroid\"] = shape.geometry.centroid\n",
    "\n",
    "# 3. Separar coordenadas dos centróides\n",
    "shape[\"centroid_x\"] = shape[\"centroid\"].x\n",
    "shape[\"centroid_y\"] = shape[\"centroid\"].y"
   ]
  },
  {
   "cell_type": "code",
   "execution_count": 71,
   "metadata": {
    "vscode": {
     "languageId": "python"
    }
   },
   "outputs": [],
   "source": [
    "coords = shape[[\"centroid_x\", \"centroid_y\"]].values\n",
    "knn = libpysal.weights.KNN.from_array(coords, k=5)"
   ]
  },
  {
   "cell_type": "code",
   "execution_count": 72,
   "metadata": {
    "vscode": {
     "languageId": "python"
    }
   },
   "outputs": [],
   "source": [
    "w_sparse = knn.sparse\n",
    "knn.transform = \"R\""
   ]
  },
  {
   "cell_type": "code",
   "execution_count": 68,
   "metadata": {
    "vscode": {
     "languageId": "python"
    }
   },
   "outputs": [],
   "source": [
    "ols1 = spreg.OLS(Y, X)\n"
   ]
  },
  {
   "cell_type": "code",
   "execution_count": 69,
   "metadata": {
    "vscode": {
     "languageId": "python"
    }
   },
   "outputs": [
    {
     "name": "stdout",
     "output_type": "stream",
     "text": [
      "REGRESSION RESULTS\n",
      "------------------\n",
      "\n",
      "SUMMARY OF OUTPUT: ORDINARY LEAST SQUARES\n",
      "-----------------------------------------\n",
      "Data set            :     unknown\n",
      "Weights matrix      :        None\n",
      "Dependent Variable  :         ice                Number of Observations:        2636\n",
      "Mean dependent var  :      0.6071                Number of Variables   :           7\n",
      "S.D. dependent var  :      0.8719                Degrees of Freedom    :        2629\n",
      "R-squared           :      0.6080\n",
      "Adjusted R-squared  :      0.6071\n",
      "Sum squared residual:     785.174                F-statistic           :    679.7170\n",
      "Sigma-square        :       0.299                Prob(F-statistic)     :           0\n",
      "S.E. of regression  :       0.546                Log likelihood        :   -2144.076\n",
      "Sigma-square ML     :       0.298                Akaike info criterion :    4302.153\n",
      "S.E of regression ML:      0.5458                Schwarz criterion     :    4343.292\n",
      "\n",
      "------------------------------------------------------------------------------------\n",
      "            Variable     Coefficient       Std.Error     t-Statistic     Probability\n",
      "------------------------------------------------------------------------------------\n",
      "            CONSTANT        -3.13927         0.09298       -33.76286         0.00000\n",
      "                 PLP         0.17696         0.06827         2.59208         0.00959\n",
      "                 PLB         0.00000         0.00001         0.21686         0.82834\n",
      " diversidade_credito         1.91983         0.08901        21.56867         0.00000\n",
      "diversidade_bancaria        -0.08167         0.06857        -1.19106         0.23374\n",
      "       log_populacao         0.25263         0.00800        31.58088         0.00000\n",
      "             op_cred        -0.00000         0.00000        -0.82658         0.40855\n",
      "------------------------------------------------------------------------------------\n",
      "\n",
      "REGRESSION DIAGNOSTICS\n",
      "MULTICOLLINEARITY CONDITION NUMBER          23.852\n",
      "\n",
      "TEST ON NORMALITY OF ERRORS\n",
      "TEST                             DF        VALUE           PROB\n",
      "Jarque-Bera                       2         13.669           0.0011\n",
      "\n",
      "DIAGNOSTICS FOR HETEROSKEDASTICITY\n",
      "RANDOM COEFFICIENTS\n",
      "TEST                             DF        VALUE           PROB\n",
      "Breusch-Pagan test                6         63.040           0.0000\n",
      "Koenker-Bassett test              6         55.298           0.0000\n",
      "================================ END OF REPORT =====================================\n"
     ]
    }
   ],
   "source": [
    "print(ols1.summary)"
   ]
  },
  {
   "cell_type": "code",
   "execution_count": 96,
   "metadata": {
    "vscode": {
     "languageId": "python"
    }
   },
   "outputs": [
    {
     "name": "stdout",
     "output_type": "stream",
     "text": [
      "REGRESSION RESULTS\n",
      "------------------\n",
      "\n",
      "SUMMARY OF OUTPUT: ORDINARY LEAST SQUARES\n",
      "-----------------------------------------\n",
      "Data set            :     unknown\n",
      "Weights matrix      :     unknown\n",
      "Dependent Variable  :         ice                Number of Observations:        2636\n",
      "Mean dependent var  :      0.6071                Number of Variables   :           7\n",
      "S.D. dependent var  :      0.8719                Degrees of Freedom    :        2629\n",
      "R-squared           :      0.6080\n",
      "Adjusted R-squared  :      0.6071\n",
      "Sum squared residual:     785.174                F-statistic           :    679.7170\n",
      "Sigma-square        :       0.299                Prob(F-statistic)     :           0\n",
      "S.E. of regression  :       0.546                Log likelihood        :   -2144.076\n",
      "Sigma-square ML     :       0.298                Akaike info criterion :    4302.153\n",
      "S.E of regression ML:      0.5458                Schwarz criterion     :    4343.292\n",
      "\n",
      "------------------------------------------------------------------------------------\n",
      "            Variable     Coefficient       Std.Error     t-Statistic     Probability\n",
      "------------------------------------------------------------------------------------\n",
      "            CONSTANT        -3.13927         0.09298       -33.76286         0.00000\n",
      "                 PLP         0.17696         0.06827         2.59208         0.00959\n",
      "                 PLB         0.00000         0.00001         0.21686         0.82834\n",
      " diversidade_credito         1.91983         0.08901        21.56867         0.00000\n",
      "diversidade_bancaria        -0.08167         0.06857        -1.19106         0.23374\n",
      "       log_populacao         0.25263         0.00800        31.58088         0.00000\n",
      "             op_cred        -0.00000         0.00000        -0.82658         0.40855\n",
      "------------------------------------------------------------------------------------\n",
      "\n",
      "REGRESSION DIAGNOSTICS\n",
      "MULTICOLLINEARITY CONDITION NUMBER          23.852\n",
      "\n",
      "TEST ON NORMALITY OF ERRORS\n",
      "TEST                             DF        VALUE           PROB\n",
      "Jarque-Bera                       2         13.669           0.0011\n",
      "\n",
      "DIAGNOSTICS FOR HETEROSKEDASTICITY\n",
      "RANDOM COEFFICIENTS\n",
      "TEST                             DF        VALUE           PROB\n",
      "Breusch-Pagan test                6         63.040           0.0000\n",
      "Koenker-Bassett test              6         55.298           0.0000\n",
      "\n",
      "DIAGNOSTICS FOR SPATIAL DEPENDENCE\n",
      "- SARERR -\n",
      "TEST                           MI/DF       VALUE           PROB\n",
      "Moran's I (error)              0.5287       45.319           0.0000\n",
      "Lagrange Multiplier (lag)         1       1314.253           0.0000\n",
      "Robust LM (lag)                   1         81.366           0.0000\n",
      "Lagrange Multiplier (error)       1       2040.470           0.0000\n",
      "Robust LM (error)                 1        807.583           0.0000\n",
      "Lagrange Multiplier (SARMA)       2       2121.836           0.0000\n",
      "\n",
      "- Spatial Durbin -\n",
      "TEST                              DF       VALUE           PROB\n",
      "LM test for WX                    6        340.616           0.0000\n",
      "Robust LM WX test                 6       1066.833           0.0000\n",
      "Lagrange Multiplier (lag)         1       1314.253           0.0000\n",
      "Robust LM Lag - SDM               1       2040.470           0.0000\n",
      "Joint test for SDM                7       2381.086           0.0000\n",
      "================================ END OF REPORT =====================================\n"
     ]
    }
   ],
   "source": [
    "ols1b = spreg.OLS(Y, X, w=knn, spat_diag=True, moran=True)\n",
    "print(ols1b.summary)"
   ]
  },
  {
   "cell_type": "code",
   "execution_count": 97,
   "metadata": {
    "vscode": {
     "languageId": "python"
    }
   },
   "outputs": [
    {
     "name": "stdout",
     "output_type": "stream",
     "text": [
      "REGRESSION RESULTS\n",
      "------------------\n",
      "\n",
      "SUMMARY OF OUTPUT: ORDINARY LEAST SQUARES WITH SPATIALLY LAGGED X (SLX)\n",
      "-----------------------------------------------------------------------\n",
      "Data set            :     unknown\n",
      "Weights matrix      :     unknown\n",
      "Dependent Variable  :         ice                Number of Observations:        2636\n",
      "Mean dependent var  :      0.6071                Number of Variables   :          13\n",
      "S.D. dependent var  :      0.8719                Degrees of Freedom    :        2623\n",
      "R-squared           :      0.6587\n",
      "Adjusted R-squared  :      0.6571\n",
      "Sum squared residual:     683.716                F-statistic           :    421.8360\n",
      "Sigma-square        :       0.261                Prob(F-statistic)     :           0\n",
      "S.E. of regression  :       0.511                Log likelihood        :   -1961.714\n",
      "Sigma-square ML     :       0.259                Akaike info criterion :    3949.429\n",
      "S.E of regression ML:      0.5093                Schwarz criterion     :    4025.830\n",
      "\n",
      "------------------------------------------------------------------------------------\n",
      "            Variable     Coefficient       Std.Error     t-Statistic     Probability\n",
      "------------------------------------------------------------------------------------\n",
      "            CONSTANT        -3.58797         0.15267       -23.50224         0.00000\n",
      "                 PLP         0.23029         0.06431         3.58083         0.00035\n",
      "                 PLB         0.00000         0.00001         0.30268         0.76216\n",
      " diversidade_credito         1.21683         0.09210        13.21273         0.00000\n",
      "diversidade_bancaria        -0.07606         0.06895        -1.10321         0.27004\n",
      "       log_populacao         0.27755         0.00865        32.07458         0.00000\n",
      "             op_cred        -0.00000         0.00000        -2.00543         0.04502\n",
      "               W_PLP         0.56627         0.12933         4.37865         0.00001\n",
      "               W_PLB        -0.00007         0.00003        -2.24431         0.02490\n",
      "W_diversidade_credito         2.76007         0.14908        18.51343         0.00000\n",
      "W_diversidade_bancaria        -0.11963         0.12584        -0.95065         0.34187\n",
      "     W_log_populacao        -0.11141         0.01327        -8.39286         0.00000\n",
      "           W_op_cred         0.00000         0.00000         6.32172         0.00000\n",
      "------------------------------------------------------------------------------------\n",
      "\n",
      "REGRESSION DIAGNOSTICS\n",
      "MULTICOLLINEARITY CONDITION NUMBER          53.302\n",
      "\n",
      "TEST ON NORMALITY OF ERRORS\n",
      "TEST                             DF        VALUE           PROB\n",
      "Jarque-Bera                       2         12.498           0.0019\n",
      "\n",
      "DIAGNOSTICS FOR HETEROSKEDASTICITY\n",
      "RANDOM COEFFICIENTS\n",
      "TEST                             DF        VALUE           PROB\n",
      "Breusch-Pagan test               12         74.428           0.0000\n",
      "Koenker-Bassett test             12         68.334           0.0000\n",
      "\n",
      "DIAGNOSTICS FOR SPATIAL DEPENDENCE\n",
      "- SARERR -\n",
      "TEST                           MI/DF       VALUE           PROB\n",
      "Moran's I (error)              0.4930       42.352           0.0000\n",
      "Lagrange Multiplier (lag)         1       1887.222           0.0000\n",
      "Robust LM (lag)                   1        113.332           0.0000\n",
      "Lagrange Multiplier (error)       1       1773.915           0.0000\n",
      "Robust LM (error)                 1          0.026           0.8730\n",
      "Lagrange Multiplier (SARMA)       2       1887.247           0.0000\n",
      "================================ END OF REPORT =====================================\n"
     ]
    }
   ],
   "source": [
    "ols2c = spreg.OLS(Y, X, w=knn, spat_diag=True, moran = True, slx_lags=1)\n",
    "\n",
    "print(ols2c.summary)"
   ]
  },
  {
   "cell_type": "code",
   "execution_count": 82,
   "metadata": {
    "vscode": {
     "languageId": "python"
    }
   },
   "outputs": [],
   "source": [
    "ak = spreg.AKtest(ols2c,w=knn)"
   ]
  },
  {
   "cell_type": "code",
   "execution_count": 85,
   "metadata": {
    "vscode": {
     "languageId": "python"
    }
   },
   "outputs": [
    {
     "name": "stdout",
     "output_type": "stream",
     "text": [
      "0.492991549144364\n"
     ]
    }
   ],
   "source": [
    "print(ak.mi)"
   ]
  },
  {
   "cell_type": "code",
   "execution_count": 89,
   "metadata": {
    "vscode": {
     "languageId": "python"
    }
   },
   "outputs": [],
   "source": [
    "sdm = spreg.GM_Lag(Y, X, w=knn, spat_diag=True, slx_lags=1)"
   ]
  },
  {
   "cell_type": "code",
   "execution_count": 90,
   "metadata": {
    "vscode": {
     "languageId": "python"
    }
   },
   "outputs": [
    {
     "name": "stdout",
     "output_type": "stream",
     "text": [
      "REGRESSION RESULTS\n",
      "------------------\n",
      "\n",
      "SUMMARY OF OUTPUT: SPATIAL TWO STAGE LEAST SQUARES WITH SLX (SPATIAL DURBIN MODEL)\n",
      "----------------------------------------------------------------------------------\n",
      "Data set            :     unknown\n",
      "Weights matrix      :     unknown\n",
      "Dependent Variable  :         ice                Number of Observations:        2636\n",
      "Mean dependent var  :      0.6071                Number of Variables   :          14\n",
      "S.D. dependent var  :      0.8719                Degrees of Freedom    :        2622\n",
      "Pseudo R-squared    :      0.8098\n",
      "Spatial Pseudo R-squared:  0.6780\n",
      "\n",
      "------------------------------------------------------------------------------------\n",
      "            Variable     Coefficient       Std.Error     z-Statistic     Probability\n",
      "------------------------------------------------------------------------------------\n",
      "            CONSTANT        -0.63389         0.23366        -2.71288         0.00667\n",
      "                 PLP         0.14107         0.04828         2.92182         0.00348\n",
      "                 PLB         0.00002         0.00001         1.79566         0.07255\n",
      " diversidade_credito         0.79603         0.07449        10.68683         0.00000\n",
      "diversidade_bancaria        -0.04073         0.05140        -0.79238         0.42814\n",
      "       log_populacao         0.29164         0.00652        44.75456         0.00000\n",
      "             op_cred        -0.00000         0.00000        -5.77216         0.00000\n",
      "               W_PLP         0.06980         0.10223         0.68276         0.49476\n",
      "               W_PLB        -0.00006         0.00002        -2.52588         0.01154\n",
      "W_diversidade_credito        -0.15318         0.22990        -0.66627         0.50524\n",
      "W_diversidade_bancaria         0.10418         0.09497         1.09704         0.27262\n",
      "     W_log_populacao        -0.26987         0.01475       -18.29417         0.00000\n",
      "           W_op_cred         0.00000         0.00000         3.97212         0.00007\n",
      "               W_ice         0.83993         0.05804        14.47053         0.00000\n",
      "------------------------------------------------------------------------------------\n",
      "Instrumented: W_ice\n",
      "Instruments: W2_PLB, W2_PLP, W2_diversidade_bancaria,\n",
      "             W2_diversidade_credito, W2_log_populacao, W2_op_cred\n",
      "\n",
      "DIAGNOSTICS FOR SPATIAL DEPENDENCE\n",
      "TEST                              DF         VALUE           PROB\n",
      "Anselin-Kelejian Test             1         40.258           0.0000\n",
      "Common Factor Hypothesis Test     6         12.892           0.0448\n",
      "\n",
      "SPATIAL DURBIN MODEL IMPACTS\n",
      "Impacts computed using the 'simple' method.\n",
      "            Variable         Direct        Indirect          Total\n",
      "                 PLP         0.1411          1.1763          1.3173\n",
      "                 PLB         0.0000         -0.0003         -0.0003\n",
      " diversidade_credito         0.7960          3.2200          4.0160\n",
      "diversidade_bancaria        -0.0407          0.4371          0.3964\n",
      "       log_populacao         0.2916         -0.1556          0.1360\n",
      "             op_cred        -0.0000          0.0000          0.0000\n",
      "================================ END OF REPORT =====================================\n"
     ]
    }
   ],
   "source": [
    "print(sdm.summary)"
   ]
  },
  {
   "cell_type": "code",
   "execution_count": 28,
   "metadata": {
    "vscode": {
     "languageId": "python"
    }
   },
   "outputs": [],
   "source": [
    "ak = spreg.AKtest(ols2c, w=knn)"
   ]
  },
  {
   "cell_type": "code",
   "execution_count": 30,
   "metadata": {
    "vscode": {
     "languageId": "python"
    }
   },
   "outputs": [
    {
     "data": {
      "text/plain": [
       "np.float64(0.492991549144364)"
      ]
     },
     "execution_count": null,
     "metadata": {},
     "output_type": "execute_result"
    }
   ],
   "source": [
    "ak.mi"
   ]
  },
  {
   "cell_type": "code",
   "execution_count": 120,
   "metadata": {
    "vscode": {
     "languageId": "python"
    }
   },
   "outputs": [
    {
     "ename": "AttributeError",
     "evalue": "'GM_Combo_Het' object has no attribute 'utu'",
     "output_type": "error",
     "traceback": [
      "\u001b[0;31m---------------------------------------------------------------------------\u001b[0m\n",
      "\u001b[0;31mAttributeError\u001b[0m                            Traceback (most recent call last)\n",
      "Cell \u001b[0;32mIn[120], line 3\u001b[0m\n",
      "\u001b[1;32m      1\u001b[0m lag3 \u001b[38;5;241m=\u001b[39m spreg\u001b[38;5;241m.\u001b[39mGM_Combo_Het(Y,X,w\u001b[38;5;241m=\u001b[39mknn,name_w\u001b[38;5;241m=\u001b[39m\u001b[38;5;124m\"\u001b[39m\u001b[38;5;124mKNN 5\u001b[39m\u001b[38;5;124m\"\u001b[39m,name_ds\u001b[38;5;241m=\u001b[39m\u001b[38;5;124m\"\u001b[39m\u001b[38;5;124mMUNICIPIOS\u001b[39m\u001b[38;5;124m\"\u001b[39m,slx_lags\u001b[38;5;241m=\u001b[39m\u001b[38;5;241m1\u001b[39m,w_lags\u001b[38;5;241m=\u001b[39m\u001b[38;5;241m1\u001b[39m)\n",
      "\u001b[0;32m----> 3\u001b[0m \u001b[43mspreg\u001b[49m\u001b[38;5;241;43m.\u001b[39;49m\u001b[43mMoranRes\u001b[49m\u001b[43m(\u001b[49m\u001b[43mlag3\u001b[49m\u001b[43m,\u001b[49m\u001b[43m \u001b[49m\u001b[43mw\u001b[49m\u001b[38;5;241;43m=\u001b[39;49m\u001b[43mknn\u001b[49m\u001b[43m,\u001b[49m\u001b[43m \u001b[49m\u001b[43mz\u001b[49m\u001b[38;5;241;43m=\u001b[39;49m\u001b[38;5;28;43;01mFalse\u001b[39;49;00m\u001b[43m)\u001b[49m\n",
      "\n",
      "File \u001b[0;32m~/www/desenvolvimento/venv/lib/python3.12/site-packages/spreg/diagnostics_sp.py:283\u001b[0m, in \u001b[0;36mMoranRes.__init__\u001b[0;34m(self, ols, w, z)\u001b[0m\n",
      "\u001b[1;32m    281\u001b[0m \u001b[38;5;28;01mdef\u001b[39;00m \u001b[38;5;21m__init__\u001b[39m(\u001b[38;5;28mself\u001b[39m, ols, w, z\u001b[38;5;241m=\u001b[39m\u001b[38;5;28;01mFalse\u001b[39;00m):\n",
      "\u001b[1;32m    282\u001b[0m     cache \u001b[38;5;241m=\u001b[39m spDcache(ols, w)\n",
      "\u001b[0;32m--> 283\u001b[0m     \u001b[38;5;28mself\u001b[39m\u001b[38;5;241m.\u001b[39mI \u001b[38;5;241m=\u001b[39m \u001b[43mget_mI\u001b[49m\u001b[43m(\u001b[49m\u001b[43mols\u001b[49m\u001b[43m,\u001b[49m\u001b[43m \u001b[49m\u001b[43mw\u001b[49m\u001b[43m,\u001b[49m\u001b[43m \u001b[49m\u001b[43mcache\u001b[49m\u001b[43m)\u001b[49m\n",
      "\u001b[1;32m    284\u001b[0m     \u001b[38;5;28;01mif\u001b[39;00m z:\n",
      "\u001b[1;32m    285\u001b[0m         \u001b[38;5;28mself\u001b[39m\u001b[38;5;241m.\u001b[39meI \u001b[38;5;241m=\u001b[39m get_eI(ols, w, cache)\n",
      "\n",
      "File \u001b[0;32m~/www/desenvolvimento/venv/lib/python3.12/site-packages/spreg/diagnostics_sp.py:881\u001b[0m, in \u001b[0;36mget_mI\u001b[0;34m(reg, w, spDcache)\u001b[0m\n",
      "\u001b[1;32m    861\u001b[0m \u001b[38;5;28;01mdef\u001b[39;00m \u001b[38;5;21mget_mI\u001b[39m(reg, w, spDcache):\n",
      "\u001b[1;32m    862\u001b[0m \u001b[38;5;250m    \u001b[39m\u001b[38;5;124;03m\"\"\"\u001b[39;00m\n",
      "\u001b[1;32m    863\u001b[0m \u001b[38;5;124;03m    Moran's I statistic of spatial autocorrelation as showed in Cliff & Ord\u001b[39;00m\n",
      "\u001b[1;32m    864\u001b[0m \u001b[38;5;124;03m    (1981) :cite:`clifford1981`, p. 201-203\u001b[39;00m\n",
      "\u001b[0;32m   (...)\u001b[0m\n",
      "\u001b[1;32m    879\u001b[0m \n",
      "\u001b[1;32m    880\u001b[0m \u001b[38;5;124;03m    \"\"\"\u001b[39;00m\n",
      "\u001b[0;32m--> 881\u001b[0m     mi \u001b[38;5;241m=\u001b[39m (w\u001b[38;5;241m.\u001b[39mn \u001b[38;5;241m*\u001b[39m np\u001b[38;5;241m.\u001b[39mdot(reg\u001b[38;5;241m.\u001b[39mu\u001b[38;5;241m.\u001b[39mT, spDcache\u001b[38;5;241m.\u001b[39mwu)) \u001b[38;5;241m/\u001b[39m (w\u001b[38;5;241m.\u001b[39ms0 \u001b[38;5;241m*\u001b[39m \u001b[43mreg\u001b[49m\u001b[38;5;241;43m.\u001b[39;49m\u001b[43mutu\u001b[49m)\n",
      "\u001b[1;32m    882\u001b[0m     \u001b[38;5;28;01mreturn\u001b[39;00m mi[\u001b[38;5;241m0\u001b[39m][\u001b[38;5;241m0\u001b[39m]\n",
      "\n",
      "\u001b[0;31mAttributeError\u001b[0m: 'GM_Combo_Het' object has no attribute 'utu'"
     ]
    }
   ],
   "source": [
    "lag3 = spreg.GM_Combo_Het(Y,X,w=knn,name_w=\"KNN 5\",name_ds=\"MUNICIPIOS\",slx_lags=1,w_lags=1)"
   ]
  },
  {
   "cell_type": "code",
   "execution_count": 122,
   "metadata": {
    "vscode": {
     "languageId": "python"
    }
   },
   "outputs": [
    {
     "name": "stdout",
     "output_type": "stream",
     "text": [
      "Model selected by STGE-Classic: SARSAR\n",
      "REGRESSION RESULTS\n",
      "------------------\n",
      "\n",
      "SUMMARY OF OUTPUT: SPATIALLY WEIGHTED 2SLS- GM-COMBO MODEL (HET)\n",
      "----------------------------------------------------------------\n",
      "Data set            :     unknown\n",
      "Weights matrix      :       False\n",
      "Dependent Variable  :         ice                Number of Observations:        2636\n",
      "Mean dependent var  :      0.6071                Number of Variables   :           8\n",
      "S.D. dependent var  :      0.8719                Degrees of Freedom    :        2628\n",
      "Pseudo R-squared    :      0.7066\n",
      "Spatial Pseudo R-squared:  0.6008\n",
      "N. of iterations    :           1                Step1c computed       :          No\n",
      "\n",
      "------------------------------------------------------------------------------------\n",
      "            Variable     Coefficient       Std.Error     z-Statistic     Probability\n",
      "------------------------------------------------------------------------------------\n",
      "            CONSTANT        -3.22897         0.09925       -32.53256         0.00000\n",
      "                 PLP         0.13361         0.06674         2.00184         0.04530\n",
      "                 PLB         0.00002         0.00001         2.70431         0.00684\n",
      " diversidade_credito         1.05265         0.08101        12.99402         0.00000\n",
      "diversidade_bancaria         0.03816         0.05147         0.74135         0.45848\n",
      "       log_populacao         0.27769         0.00826        33.63057         0.00000\n",
      "             op_cred        -0.00000         0.00000        -4.56942         0.00000\n",
      "               W_ice         0.27011         0.02867         9.42063         0.00000\n",
      "              lambda         0.55663         0.02324        23.95184         0.00000\n",
      "------------------------------------------------------------------------------------\n",
      "Instrumented: W_ice\n",
      "Instruments: W2_PLB, W2_PLP, W2_diversidade_bancaria,\n",
      "             W2_diversidade_credito, W2_log_populacao, W2_op_cred, W_PLB,\n",
      "             W_PLP, W_diversidade_bancaria, W_diversidade_credito,\n",
      "             W_log_populacao, W_op_cred\n",
      "================================ END OF REPORT =====================================\n"
     ]
    }
   ],
   "source": [
    "mod, finreg = spreg.spsearch.stge_classic(Y,X,w=knn)"
   ]
  },
  {
   "cell_type": "code",
   "execution_count": 123,
   "metadata": {
    "vscode": {
     "languageId": "python"
    }
   },
   "outputs": [
    {
     "name": "stdout",
     "output_type": "stream",
     "text": [
      "Model selected by STGE-Pre: SDM\n",
      "REGRESSION RESULTS\n",
      "------------------\n",
      "\n",
      "SUMMARY OF OUTPUT: SPATIAL TWO STAGE LEAST SQUARES WITH SLX (SPATIAL DURBIN MODEL)\n",
      "----------------------------------------------------------------------------------\n",
      "Data set            :       shape\n",
      "Weights matrix      :       KNN 5\n",
      "Dependent Variable  :         ice                Number of Observations:        2636\n",
      "Mean dependent var  :      0.6071                Number of Variables   :          14\n",
      "S.D. dependent var  :      0.8719                Degrees of Freedom    :        2622\n",
      "Pseudo R-squared    :      0.8085\n",
      "Spatial Pseudo R-squared:  0.6699\n",
      "\n",
      "------------------------------------------------------------------------------------\n",
      "            Variable     Coefficient       Std.Error     z-Statistic     Probability\n",
      "------------------------------------------------------------------------------------\n",
      "            CONSTANT        -0.31076         0.20235        -1.53573         0.12461\n",
      "                 PLP         0.13132         0.04836         2.71540         0.00662\n",
      "                 PLB         0.00002         0.00001         1.94242         0.05209\n",
      " diversidade_credito         0.75000         0.07287        10.29238         0.00000\n",
      "diversidade_bancaria        -0.03686         0.05160        -0.71434         0.47502\n",
      "       log_populacao         0.29318         0.00652        44.96588         0.00000\n",
      "             op_cred        -0.00000         0.00000        -6.13841         0.00000\n",
      "               W_PLP         0.01549         0.10071         0.15381         0.87776\n",
      "               W_PLB        -0.00006         0.00002        -2.46245         0.01380\n",
      "W_diversidade_credito        -0.47184         0.19894        -2.37179         0.01770\n",
      "W_diversidade_bancaria         0.12866         0.09495         1.35502         0.17541\n",
      "     W_log_populacao        -0.28721         0.01337       -21.47493         0.00000\n",
      "           W_op_cred         0.00000         0.00000         3.55158         0.00038\n",
      "               W_ice         0.93180         0.04750        19.61577         0.00000\n",
      "------------------------------------------------------------------------------------\n",
      "Instrumented: W_ice\n",
      "Instruments: W2_PLB, W2_PLP, W2_diversidade_bancaria,\n",
      "             W2_diversidade_credito, W2_log_populacao, W2_op_cred, W3_PLB,\n",
      "             W3_PLP, W3_diversidade_bancaria, W3_diversidade_credito,\n",
      "             W3_log_populacao, W3_op_cred\n",
      "\n",
      "DIAGNOSTICS FOR SPATIAL DEPENDENCE\n",
      "TEST                              DF         VALUE           PROB\n",
      "Anselin-Kelejian Test             1        154.386           0.0000\n",
      "Common Factor Hypothesis Test     6          7.469           0.2796\n",
      "\n",
      "SPATIAL DURBIN MODEL IMPACTS\n",
      "Impacts computed using the 'simple' method.\n",
      "            Variable         Direct        Indirect          Total\n",
      "                 PLP         0.1313          2.0213          2.1526\n",
      "                 PLB         0.0000         -0.0006         -0.0006\n",
      " diversidade_credito         0.7500          3.3287          4.0787\n",
      "diversidade_bancaria        -0.0369          1.3830          1.3461\n",
      "       log_populacao         0.2932         -0.2055          0.0877\n",
      "             op_cred        -0.0000          0.0000          0.0000\n",
      "================================ END OF REPORT =====================================\n"
     ]
    }
   ],
   "source": [
    "mod, finreg = spreg.spsearch.stge_pre(Y,X,w=knn,name_ds=\"shape\",name_w=\"KNN 5\")"
   ]
  },
  {
   "cell_type": "code",
   "execution_count": 124,
   "metadata": {
    "vscode": {
     "languageId": "python"
    }
   },
   "outputs": [
    {
     "name": "stdout",
     "output_type": "stream",
     "text": [
      "Model selected by GETS-SDM: SARSAR\n",
      "REGRESSION RESULTS\n",
      "------------------\n",
      "\n",
      "SUMMARY OF OUTPUT: SPATIALLY WEIGHTED 2SLS- GM-COMBO MODEL (HET)\n",
      "----------------------------------------------------------------\n",
      "Data set            :     unknown\n",
      "Weights matrix      :       False\n",
      "Dependent Variable  :         ice                Number of Observations:        2636\n",
      "Mean dependent var  :      0.6071                Number of Variables   :           8\n",
      "S.D. dependent var  :      0.8719                Degrees of Freedom    :        2628\n",
      "Pseudo R-squared    :      0.7066\n",
      "Spatial Pseudo R-squared:  0.6008\n",
      "N. of iterations    :           1                Step1c computed       :          No\n",
      "\n",
      "------------------------------------------------------------------------------------\n",
      "            Variable     Coefficient       Std.Error     z-Statistic     Probability\n",
      "------------------------------------------------------------------------------------\n",
      "            CONSTANT        -3.22897         0.09925       -32.53256         0.00000\n",
      "                 PLP         0.13361         0.06674         2.00184         0.04530\n",
      "                 PLB         0.00002         0.00001         2.70431         0.00684\n",
      " diversidade_credito         1.05265         0.08101        12.99402         0.00000\n",
      "diversidade_bancaria         0.03816         0.05147         0.74135         0.45848\n",
      "       log_populacao         0.27769         0.00826        33.63057         0.00000\n",
      "             op_cred        -0.00000         0.00000        -4.56942         0.00000\n",
      "               W_ice         0.27011         0.02867         9.42063         0.00000\n",
      "              lambda         0.55663         0.02324        23.95184         0.00000\n",
      "------------------------------------------------------------------------------------\n",
      "Instrumented: W_ice\n",
      "Instruments: W2_PLB, W2_PLP, W2_diversidade_bancaria,\n",
      "             W2_diversidade_credito, W2_log_populacao, W2_op_cred, W_PLB,\n",
      "             W_PLP, W_diversidade_bancaria, W_diversidade_credito,\n",
      "             W_log_populacao, W_op_cred\n",
      "================================ END OF REPORT =====================================\n"
     ]
    }
   ],
   "source": [
    "mod, finreg = spreg.spsearch.gets_sdm(Y,X,w=knn,robust=\"white\")"
   ]
  }
 ],
 "metadata": {
  "language_info": {
   "name": "plaintext"
  }
 },
 "nbformat": 4,
 "nbformat_minor": 2
}
